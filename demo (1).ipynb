{
 "cells": [
  {
   "metadata": {},
   "cell_type": "markdown",
   "source": [
    "Q1: Program\n",
    "on\n",
    "Numpy\n",
    "Aggregations: Min, Max, and etc.Example What Is the Average Height of prime\n",
    "ministers of india?"
   ],
   "id": "b6a4781374ecb7fb"
  },
  {
   "metadata": {
    "ExecuteTime": {
     "end_time": "2025-03-21T11:38:28.220381Z",
     "start_time": "2025-03-21T11:38:28.059619Z"
    }
   },
   "cell_type": "code",
   "source": [
    "import numpy as np\n",
    "\n",
    "# Heights of some Prime Ministers of India in cm (example data)\n",
    "heights = np.array([173, 170, 160, 168, 175, 163, 172, 165, 169])\n",
    "\n",
    "# Compute min, max, and average\n",
    "min_height = np.min(heights)\n",
    "max_height = np.max(heights)\n",
    "avg_height = np.mean(heights)\n",
    "\n",
    "print(f\"Min Height: {min_height} cm\")\n",
    "print(f\"Max Height: {max_height} cm\")\n",
    "print(f\"Average Height: {avg_height:.2f} cm\")\n"
   ],
   "id": "cdc935342e74bf3e",
   "outputs": [
    {
     "name": "stdout",
     "output_type": "stream",
     "text": [
      "Min Height: 160 cm\n",
      "Max Height: 175 cm\n",
      "Average Height: 168.33 cm\n"
     ]
    }
   ],
   "execution_count": 1
  },
  {
   "metadata": {},
   "cell_type": "code",
   "outputs": [],
   "execution_count": null,
   "source": "",
   "id": "b73a3a10cece3171"
  }
 ],
 "metadata": {
  "kernelspec": {
   "display_name": "Python 3",
   "language": "python",
   "name": "python3"
  },
  "language_info": {
   "codemirror_mode": {
    "name": "ipython",
    "version": 2
   },
   "file_extension": ".py",
   "mimetype": "text/x-python",
   "name": "python",
   "nbconvert_exporter": "python",
   "pygments_lexer": "ipython2",
   "version": "2.7.6"
  }
 },
 "nbformat": 4,
 "nbformat_minor": 5
}
