{
  "cells": [
    {
      "cell_type": "code",
      "execution_count": null,
      "id": "3c4259fb",
      "metadata": {
        "id": "3c4259fb"
      },
      "outputs": [],
      "source": [
        "import numpy as np"
      ]
    },
    {
      "cell_type": "code",
      "execution_count": null,
      "id": "efdd030b",
      "metadata": {
        "id": "efdd030b"
      },
      "outputs": [],
      "source": [
        "l = [1,2,3,4,5,6]"
      ]
    },
    {
      "cell_type": "code",
      "execution_count": null,
      "id": "c0b87a79",
      "metadata": {
        "id": "c0b87a79",
        "outputId": "6f476d58-fc61-4376-c9de-143a1b122c27",
        "colab": {
          "base_uri": "https://localhost:8080/"
        }
      },
      "outputs": [
        {
          "output_type": "execute_result",
          "data": {
            "text/plain": [
              "array([1, 2, 3, 4, 5, 6])"
            ]
          },
          "metadata": {},
          "execution_count": 4
        }
      ],
      "source": [
        "np.array(l)"
      ]
    },
    {
      "cell_type": "code",
      "execution_count": null,
      "id": "be7475a9",
      "metadata": {
        "id": "be7475a9"
      },
      "outputs": [],
      "source": [
        "l1 = [4,5,6,7,\"sudh\" , 34.565, True]"
      ]
    },
    {
      "cell_type": "code",
      "execution_count": null,
      "id": "e4ff43ff",
      "metadata": {
        "id": "e4ff43ff"
      },
      "outputs": [],
      "source": [
        "a1 = np.array(l1)"
      ]
    },
    {
      "cell_type": "code",
      "execution_count": null,
      "id": "49c2bcb5",
      "metadata": {
        "id": "49c2bcb5"
      },
      "outputs": [],
      "source": [
        "a2 = np.array([[1,2,3] , [4,5,6]])"
      ]
    },
    {
      "cell_type": "code",
      "source": [
        "a2"
      ],
      "metadata": {
        "id": "4_VDV5cN4EwI",
        "outputId": "4c26c9d5-3a08-4aba-b11f-6f566335bd10",
        "colab": {
          "base_uri": "https://localhost:8080/"
        }
      },
      "id": "4_VDV5cN4EwI",
      "execution_count": null,
      "outputs": [
        {
          "output_type": "execute_result",
          "data": {
            "text/plain": [
              "array([[1, 2, 3],\n",
              "       [4, 5, 6]])"
            ]
          },
          "metadata": {},
          "execution_count": 8
        }
      ]
    },
    {
      "cell_type": "code",
      "execution_count": null,
      "id": "c220afc3",
      "metadata": {
        "id": "c220afc3"
      },
      "outputs": [],
      "source": [
        "a3 = np.array([[[1,2,3] , [4,5,6] , [7,8,9]]])"
      ]
    },
    {
      "cell_type": "code",
      "execution_count": null,
      "id": "78cddbbb",
      "metadata": {
        "id": "78cddbbb",
        "outputId": "f8f8014d-da37-4428-f4d4-7752a26affe5",
        "colab": {
          "base_uri": "https://localhost:8080/"
        }
      },
      "outputs": [
        {
          "output_type": "execute_result",
          "data": {
            "text/plain": [
              "array(['4', '5', '6', '7', 'sudh', '34.565', 'True'], dtype='<U32')"
            ]
          },
          "metadata": {},
          "execution_count": 98
        }
      ],
      "source": [
        "a1"
      ]
    },
    {
      "cell_type": "code",
      "execution_count": null,
      "id": "08fe71ac",
      "metadata": {
        "id": "08fe71ac",
        "outputId": "8c251ad2-47d7-494d-dc5a-786d5c1962ef",
        "colab": {
          "base_uri": "https://localhost:8080/"
        }
      },
      "outputs": [
        {
          "output_type": "execute_result",
          "data": {
            "text/plain": [
              "array([[1, 2, 3],\n",
              "       [4, 5, 6]])"
            ]
          },
          "metadata": {},
          "execution_count": 99
        }
      ],
      "source": [
        "a2"
      ]
    },
    {
      "cell_type": "code",
      "execution_count": null,
      "id": "93161574",
      "metadata": {
        "id": "93161574",
        "outputId": "dcb42630-666e-41f5-dcc6-51acf2560a02",
        "colab": {
          "base_uri": "https://localhost:8080/"
        }
      },
      "outputs": [
        {
          "output_type": "execute_result",
          "data": {
            "text/plain": [
              "array([[[1, 2, 3],\n",
              "        [4, 5, 6],\n",
              "        [7, 8, 9]]])"
            ]
          },
          "metadata": {},
          "execution_count": 100
        }
      ],
      "source": [
        "a3"
      ]
    },
    {
      "cell_type": "code",
      "execution_count": null,
      "id": "e3a8b689",
      "metadata": {
        "id": "e3a8b689",
        "outputId": "51305ea1-5178-455e-c596-959437b9e5bf",
        "colab": {
          "base_uri": "https://localhost:8080/"
        }
      },
      "outputs": [
        {
          "output_type": "execute_result",
          "data": {
            "text/plain": [
              "1"
            ]
          },
          "metadata": {},
          "execution_count": 101
        }
      ],
      "source": [
        "a1.ndim"
      ]
    },
    {
      "cell_type": "code",
      "execution_count": null,
      "id": "154c1d9b",
      "metadata": {
        "id": "154c1d9b",
        "outputId": "772e2ffc-746b-44e2-c3dd-d84a93fbb991",
        "colab": {
          "base_uri": "https://localhost:8080/"
        }
      },
      "outputs": [
        {
          "output_type": "execute_result",
          "data": {
            "text/plain": [
              "2"
            ]
          },
          "metadata": {},
          "execution_count": 102
        }
      ],
      "source": [
        "a2.ndim"
      ]
    },
    {
      "cell_type": "code",
      "execution_count": null,
      "id": "2d3461c7",
      "metadata": {
        "id": "2d3461c7",
        "outputId": "e938b62d-89f2-4554-c1ff-b2f72894cd98",
        "colab": {
          "base_uri": "https://localhost:8080/"
        }
      },
      "outputs": [
        {
          "output_type": "execute_result",
          "data": {
            "text/plain": [
              "3"
            ]
          },
          "metadata": {},
          "execution_count": 103
        }
      ],
      "source": [
        "a3.ndim"
      ]
    },
    {
      "cell_type": "code",
      "execution_count": null,
      "id": "50165d8f",
      "metadata": {
        "id": "50165d8f",
        "outputId": "fa9ca6af-bf9b-4758-8ae7-dbf181b08f5a",
        "colab": {
          "base_uri": "https://localhost:8080/"
        }
      },
      "outputs": [
        {
          "output_type": "execute_result",
          "data": {
            "text/plain": [
              "7"
            ]
          },
          "metadata": {},
          "execution_count": 104
        }
      ],
      "source": [
        "a1.size"
      ]
    },
    {
      "cell_type": "code",
      "execution_count": null,
      "id": "5810be30",
      "metadata": {
        "id": "5810be30",
        "outputId": "a410a8b5-4b56-4313-c3cb-1ad64ae4070f",
        "colab": {
          "base_uri": "https://localhost:8080/"
        }
      },
      "outputs": [
        {
          "output_type": "execute_result",
          "data": {
            "text/plain": [
              "6"
            ]
          },
          "metadata": {},
          "execution_count": 105
        }
      ],
      "source": [
        "a2.size"
      ]
    },
    {
      "cell_type": "code",
      "execution_count": null,
      "id": "189371d7",
      "metadata": {
        "id": "189371d7",
        "outputId": "ad9d8d03-3864-4a07-e376-3a76e94f9352",
        "colab": {
          "base_uri": "https://localhost:8080/"
        }
      },
      "outputs": [
        {
          "output_type": "execute_result",
          "data": {
            "text/plain": [
              "9"
            ]
          },
          "metadata": {},
          "execution_count": 106
        }
      ],
      "source": [
        "a3.size"
      ]
    },
    {
      "cell_type": "code",
      "execution_count": null,
      "id": "cb6d0ff4",
      "metadata": {
        "id": "cb6d0ff4",
        "outputId": "17991104-49f0-4974-cc62-b96201ae5c83",
        "colab": {
          "base_uri": "https://localhost:8080/"
        }
      },
      "outputs": [
        {
          "output_type": "execute_result",
          "data": {
            "text/plain": [
              "(7,)"
            ]
          },
          "metadata": {},
          "execution_count": 107
        }
      ],
      "source": [
        "a1.shape"
      ]
    },
    {
      "cell_type": "code",
      "execution_count": null,
      "id": "c0e85b27",
      "metadata": {
        "id": "c0e85b27",
        "outputId": "a1547b43-126e-4f87-bb2f-205199b1ed19",
        "colab": {
          "base_uri": "https://localhost:8080/"
        }
      },
      "outputs": [
        {
          "output_type": "execute_result",
          "data": {
            "text/plain": [
              "(2, 3)"
            ]
          },
          "metadata": {},
          "execution_count": 108
        }
      ],
      "source": [
        "a2.shape"
      ]
    },
    {
      "cell_type": "code",
      "execution_count": null,
      "id": "06eb78aa",
      "metadata": {
        "id": "06eb78aa",
        "outputId": "5ed92e9f-cab5-4d62-a6da-2727bc681d9c",
        "colab": {
          "base_uri": "https://localhost:8080/"
        }
      },
      "outputs": [
        {
          "output_type": "execute_result",
          "data": {
            "text/plain": [
              "(1, 3, 3)"
            ]
          },
          "metadata": {},
          "execution_count": 109
        }
      ],
      "source": [
        "a3.shape"
      ]
    },
    {
      "cell_type": "code",
      "execution_count": null,
      "id": "ec2a9ba1",
      "metadata": {
        "id": "ec2a9ba1",
        "outputId": "f8531f61-8d03-4ac1-b9ae-69eb7185a9fa",
        "colab": {
          "base_uri": "https://localhost:8080/"
        }
      },
      "outputs": [
        {
          "output_type": "execute_result",
          "data": {
            "text/plain": [
              "array(['4', '5', '6', '7', 'sudh', '34.565', 'True'], dtype='<U32')"
            ]
          },
          "metadata": {},
          "execution_count": 110
        }
      ],
      "source": [
        "a1"
      ]
    },
    {
      "cell_type": "code",
      "execution_count": null,
      "id": "5943eb9d",
      "metadata": {
        "id": "5943eb9d",
        "outputId": "048e64f2-7ff8-4ee8-ad5b-c43a17f90c0b",
        "colab": {
          "base_uri": "https://localhost:8080/"
        }
      },
      "outputs": [
        {
          "output_type": "execute_result",
          "data": {
            "text/plain": [
              "array([[1, 2, 3],\n",
              "       [4, 5, 6]])"
            ]
          },
          "metadata": {},
          "execution_count": 111
        }
      ],
      "source": [
        "a2"
      ]
    },
    {
      "cell_type": "code",
      "execution_count": null,
      "id": "b9d11974",
      "metadata": {
        "id": "b9d11974",
        "outputId": "81e2054e-bde2-4960-9838-f9cec2f0ad47",
        "colab": {
          "base_uri": "https://localhost:8080/"
        }
      },
      "outputs": [
        {
          "output_type": "execute_result",
          "data": {
            "text/plain": [
              "array([[[1, 2, 3],\n",
              "        [4, 5, 6],\n",
              "        [7, 8, 9]]])"
            ]
          },
          "metadata": {},
          "execution_count": 112
        }
      ],
      "source": [
        "a3"
      ]
    },
    {
      "cell_type": "code",
      "execution_count": null,
      "id": "877b7975",
      "metadata": {
        "id": "877b7975",
        "outputId": "64c890b2-813e-4345-99f3-cfe8752e39e2",
        "colab": {
          "base_uri": "https://localhost:8080/"
        }
      },
      "outputs": [
        {
          "output_type": "execute_result",
          "data": {
            "text/plain": [
              "array([[43, 46, 27, 37],\n",
              "       [ 9, 10, 11, 36],\n",
              "       [49, 26, 38,  3]])"
            ]
          },
          "metadata": {},
          "execution_count": 113
        }
      ],
      "source": [
        "np.random.randint(2,50 ,(3,4) )"
      ]
    },
    {
      "cell_type": "code",
      "execution_count": null,
      "id": "9bcc7793",
      "metadata": {
        "id": "9bcc7793",
        "outputId": "ed8cc3a3-8093-487f-82ef-f5b5730935d7",
        "colab": {
          "base_uri": "https://localhost:8080/"
        }
      },
      "outputs": [
        {
          "output_type": "execute_result",
          "data": {
            "text/plain": [
              "array([[[29,  2, 17, 38],\n",
              "        [33, 36, 18, 11],\n",
              "        [44, 10, 26, 11]],\n",
              "\n",
              "       [[35, 16, 48, 10],\n",
              "        [46,  3,  7, 49],\n",
              "        [12, 18,  3, 11]]])"
            ]
          },
          "metadata": {},
          "execution_count": 114
        }
      ],
      "source": [
        "np.random.randint(2,50 ,(2,3,4) )"
      ]
    },
    {
      "cell_type": "code",
      "execution_count": null,
      "id": "7073dac6",
      "metadata": {
        "id": "7073dac6",
        "outputId": "f2329e55-c8ff-4f69-d9ad-a8da10035907",
        "colab": {
          "base_uri": "https://localhost:8080/"
        }
      },
      "outputs": [
        {
          "output_type": "execute_result",
          "data": {
            "text/plain": [
              "array([[0.89332757, 0.37873253, 0.34003087, 0.84263749],\n",
              "       [0.10074503, 0.76163768, 0.1508085 , 0.18428823],\n",
              "       [0.00288339, 0.60551656, 0.2643504 , 0.32743116],\n",
              "       [0.61766901, 0.2166041 , 0.93447661, 0.9352539 ],\n",
              "       [0.15056402, 0.98171113, 0.10688124, 0.44386356]])"
            ]
          },
          "metadata": {},
          "execution_count": 115
        }
      ],
      "source": [
        "np.random.rand(5,4)"
      ]
    },
    {
      "cell_type": "code",
      "execution_count": null,
      "id": "afb881b9",
      "metadata": {
        "id": "afb881b9"
      },
      "outputs": [],
      "source": [
        "a4 =  np.random.randn(4,4)"
      ]
    },
    {
      "cell_type": "code",
      "execution_count": null,
      "id": "0c929252",
      "metadata": {
        "id": "0c929252",
        "outputId": "5b5f7fcc-8911-4878-8eea-e4b9a9da0069",
        "colab": {
          "base_uri": "https://localhost:8080/"
        }
      },
      "outputs": [
        {
          "output_type": "execute_result",
          "data": {
            "text/plain": [
              "array([[-0.17509556,  0.39706935, -0.31079846, -0.42257641],\n",
              "       [-1.53162428,  0.11476461,  0.0822455 ,  1.0329567 ],\n",
              "       [ 0.06011409,  0.66247975,  0.12069329,  0.36577783],\n",
              "       [ 1.61477657,  0.13935525, -0.81504234,  0.04963323]])"
            ]
          },
          "metadata": {},
          "execution_count": 117
        }
      ],
      "source": [
        "a4"
      ]
    },
    {
      "cell_type": "code",
      "execution_count": null,
      "id": "96219b64",
      "metadata": {
        "id": "96219b64",
        "outputId": "fc81fc74-cf6f-42d2-dedb-3750e80f87c1",
        "colab": {
          "base_uri": "https://localhost:8080/"
        }
      },
      "outputs": [
        {
          "output_type": "execute_result",
          "data": {
            "text/plain": [
              "array([[-0.17509556,  0.39706935, -0.31079846, -0.42257641, -1.53162428,\n",
              "         0.11476461,  0.0822455 ,  1.0329567 ],\n",
              "       [ 0.06011409,  0.66247975,  0.12069329,  0.36577783,  1.61477657,\n",
              "         0.13935525, -0.81504234,  0.04963323]])"
            ]
          },
          "metadata": {},
          "execution_count": 118
        }
      ],
      "source": [
        "a4.reshape(2,8)"
      ]
    },
    {
      "cell_type": "code",
      "execution_count": null,
      "id": "1e74a848",
      "metadata": {
        "id": "1e74a848",
        "outputId": "06dd8c5c-7837-4824-d52d-14773e2cccce",
        "colab": {
          "base_uri": "https://localhost:8080/"
        }
      },
      "outputs": [
        {
          "output_type": "execute_result",
          "data": {
            "text/plain": [
              "array([[-0.17509556,  0.39706935],\n",
              "       [-0.31079846, -0.42257641],\n",
              "       [-1.53162428,  0.11476461],\n",
              "       [ 0.0822455 ,  1.0329567 ],\n",
              "       [ 0.06011409,  0.66247975],\n",
              "       [ 0.12069329,  0.36577783],\n",
              "       [ 1.61477657,  0.13935525],\n",
              "       [-0.81504234,  0.04963323]])"
            ]
          },
          "metadata": {},
          "execution_count": 119
        }
      ],
      "source": [
        "a4.reshape(8,2)"
      ]
    },
    {
      "cell_type": "code",
      "execution_count": null,
      "id": "145627d8",
      "metadata": {
        "id": "145627d8",
        "outputId": "ca5266f1-e990-4bac-b609-007925b48380",
        "colab": {
          "base_uri": "https://localhost:8080/"
        }
      },
      "outputs": [
        {
          "output_type": "execute_result",
          "data": {
            "text/plain": [
              "array([[-0.17509556],\n",
              "       [ 0.39706935],\n",
              "       [-0.31079846],\n",
              "       [-0.42257641],\n",
              "       [-1.53162428],\n",
              "       [ 0.11476461],\n",
              "       [ 0.0822455 ],\n",
              "       [ 1.0329567 ],\n",
              "       [ 0.06011409],\n",
              "       [ 0.66247975],\n",
              "       [ 0.12069329],\n",
              "       [ 0.36577783],\n",
              "       [ 1.61477657],\n",
              "       [ 0.13935525],\n",
              "       [-0.81504234],\n",
              "       [ 0.04963323]])"
            ]
          },
          "metadata": {},
          "execution_count": 120
        }
      ],
      "source": [
        "a4.reshape(16,1)"
      ]
    },
    {
      "cell_type": "code",
      "execution_count": null,
      "id": "2a282b0c",
      "metadata": {
        "id": "2a282b0c",
        "outputId": "2c587506-b933-4a78-b999-a1098745d917",
        "colab": {
          "base_uri": "https://localhost:8080/"
        }
      },
      "outputs": [
        {
          "output_type": "execute_result",
          "data": {
            "text/plain": [
              "array([[-0.17509556,  0.39706935, -0.31079846, -0.42257641, -1.53162428,\n",
              "         0.11476461,  0.0822455 ,  1.0329567 ],\n",
              "       [ 0.06011409,  0.66247975,  0.12069329,  0.36577783,  1.61477657,\n",
              "         0.13935525, -0.81504234,  0.04963323]])"
            ]
          },
          "metadata": {},
          "execution_count": 121
        }
      ],
      "source": [
        "a4.reshape(2,-134564364)"
      ]
    },
    {
      "cell_type": "code",
      "execution_count": null,
      "id": "359b60cb",
      "metadata": {
        "id": "359b60cb",
        "outputId": "372b27e8-7d8d-470b-f927-cad3bbee2889",
        "colab": {
          "base_uri": "https://localhost:8080/"
        }
      },
      "outputs": [
        {
          "output_type": "execute_result",
          "data": {
            "text/plain": [
              "array([[[[[[[[[[-0.17509556,  0.39706935, -0.31079846,\n",
              "                -0.42257641],\n",
              "               [-1.53162428,  0.11476461,  0.0822455 ,\n",
              "                 1.0329567 ]],\n",
              "\n",
              "              [[ 0.06011409,  0.66247975,  0.12069329,\n",
              "                 0.36577783],\n",
              "               [ 1.61477657,  0.13935525, -0.81504234,\n",
              "                 0.04963323]]]]]]]]]])"
            ]
          },
          "metadata": {},
          "execution_count": 122
        }
      ],
      "source": [
        "a4.reshape(1,1,1,1,1,1,1,2,2,4)"
      ]
    },
    {
      "cell_type": "code",
      "execution_count": null,
      "id": "671ae6de",
      "metadata": {
        "id": "671ae6de",
        "outputId": "68d6e4c2-a8dc-472e-f07a-ab82873bfeb3",
        "colab": {
          "base_uri": "https://localhost:8080/"
        }
      },
      "outputs": [
        {
          "output_type": "execute_result",
          "data": {
            "text/plain": [
              "array(['4', '5', '6', '7', 'sudh', '34.565', 'True'], dtype='<U32')"
            ]
          },
          "metadata": {},
          "execution_count": 123
        }
      ],
      "source": [
        "a1"
      ]
    },
    {
      "cell_type": "code",
      "execution_count": null,
      "id": "1077c4dd",
      "metadata": {
        "id": "1077c4dd",
        "outputId": "6701bc08-09aa-45fe-fa9f-8de5ec5008c1",
        "colab": {
          "base_uri": "https://localhost:8080/",
          "height": 35
        }
      },
      "outputs": [
        {
          "output_type": "execute_result",
          "data": {
            "text/plain": [
              "np.str_('4')"
            ],
            "application/vnd.google.colaboratory.intrinsic+json": {
              "type": "string"
            }
          },
          "metadata": {},
          "execution_count": 124
        }
      ],
      "source": [
        "a1[0]"
      ]
    },
    {
      "cell_type": "code",
      "execution_count": null,
      "id": "47a39788",
      "metadata": {
        "id": "47a39788",
        "outputId": "60444697-80f8-419e-f620-ea7d6fa20ba6",
        "colab": {
          "base_uri": "https://localhost:8080/"
        }
      },
      "outputs": [
        {
          "output_type": "execute_result",
          "data": {
            "text/plain": [
              "array(['6', '7', 'sudh', '34.565'], dtype='<U32')"
            ]
          },
          "metadata": {},
          "execution_count": 125
        }
      ],
      "source": [
        "a1[2:6]"
      ]
    },
    {
      "cell_type": "code",
      "execution_count": null,
      "id": "8a035ebc",
      "metadata": {
        "id": "8a035ebc",
        "outputId": "642f2f32-11f1-46cf-f119-f9fd43f3e6dd",
        "colab": {
          "base_uri": "https://localhost:8080/"
        }
      },
      "outputs": [
        {
          "output_type": "execute_result",
          "data": {
            "text/plain": [
              "array(['6', 'sudh'], dtype='<U32')"
            ]
          },
          "metadata": {},
          "execution_count": 126
        }
      ],
      "source": [
        "a1[2:6:2]"
      ]
    },
    {
      "cell_type": "code",
      "execution_count": null,
      "id": "cbbb5e89",
      "metadata": {
        "id": "cbbb5e89",
        "outputId": "6bd640c6-b5dd-4eec-b433-be5053c361b1",
        "colab": {
          "base_uri": "https://localhost:8080/"
        }
      },
      "outputs": [
        {
          "output_type": "execute_result",
          "data": {
            "text/plain": [
              "array(['True', '34.565', 'sudh', '7', '6', '5', '4'], dtype='<U32')"
            ]
          },
          "metadata": {},
          "execution_count": 127
        }
      ],
      "source": [
        "a1[::-1]"
      ]
    },
    {
      "cell_type": "code",
      "execution_count": null,
      "id": "6bd77ba0",
      "metadata": {
        "id": "6bd77ba0",
        "outputId": "eaf85e64-131d-4c96-8ed4-56e6763535b6",
        "colab": {
          "base_uri": "https://localhost:8080/"
        }
      },
      "outputs": [
        {
          "output_type": "execute_result",
          "data": {
            "text/plain": [
              "array([[[1, 2, 3],\n",
              "        [4, 5, 6],\n",
              "        [7, 8, 9]]])"
            ]
          },
          "metadata": {},
          "execution_count": 128
        }
      ],
      "source": [
        "a3"
      ]
    },
    {
      "cell_type": "code",
      "execution_count": null,
      "id": "2c657189",
      "metadata": {
        "id": "2c657189",
        "outputId": "0fe5addc-1d1b-4415-fc72-8fd30415c98b",
        "colab": {
          "base_uri": "https://localhost:8080/"
        }
      },
      "outputs": [
        {
          "output_type": "execute_result",
          "data": {
            "text/plain": [
              "array([[1, 2, 3],\n",
              "       [4, 5, 6]])"
            ]
          },
          "metadata": {},
          "execution_count": 129
        }
      ],
      "source": [
        "a2"
      ]
    },
    {
      "cell_type": "code",
      "execution_count": null,
      "id": "f7aa84d9",
      "metadata": {
        "id": "f7aa84d9",
        "outputId": "3a7b58ad-840a-4879-e007-96d5b6c2a635",
        "colab": {
          "base_uri": "https://localhost:8080/"
        }
      },
      "outputs": [
        {
          "output_type": "execute_result",
          "data": {
            "text/plain": [
              "array([[2, 3],\n",
              "       [5, 6]])"
            ]
          },
          "metadata": {},
          "execution_count": 130
        }
      ],
      "source": [
        "a2[:,1:]"
      ]
    },
    {
      "cell_type": "code",
      "execution_count": null,
      "id": "94b785f7",
      "metadata": {
        "id": "94b785f7",
        "outputId": "bcbc3bc3-09bd-40a5-be86-31fba8755c37",
        "colab": {
          "base_uri": "https://localhost:8080/"
        }
      },
      "outputs": [
        {
          "output_type": "execute_result",
          "data": {
            "text/plain": [
              "array([[2, 3],\n",
              "       [5, 6]])"
            ]
          },
          "metadata": {},
          "execution_count": 131
        }
      ],
      "source": [
        "a2[:,[1,2]]"
      ]
    },
    {
      "cell_type": "code",
      "execution_count": null,
      "id": "cc12b1a2",
      "metadata": {
        "id": "cc12b1a2",
        "outputId": "7a009f3f-7047-4339-ceac-09df5ef23c67",
        "colab": {
          "base_uri": "https://localhost:8080/"
        }
      },
      "outputs": [
        {
          "output_type": "execute_result",
          "data": {
            "text/plain": [
              "array([[2, 3],\n",
              "       [5, 6]])"
            ]
          },
          "metadata": {},
          "execution_count": 132
        }
      ],
      "source": [
        "a2[[0,1] , 1:]"
      ]
    },
    {
      "cell_type": "code",
      "execution_count": null,
      "id": "1f2f5d9c",
      "metadata": {
        "id": "1f2f5d9c",
        "outputId": "8221c8f7-b7a8-4215-824f-21bfc938e549",
        "colab": {
          "base_uri": "https://localhost:8080/"
        }
      },
      "outputs": [
        {
          "output_type": "execute_result",
          "data": {
            "text/plain": [
              "array([[2, 3],\n",
              "       [5, 6]])"
            ]
          },
          "metadata": {},
          "execution_count": 133
        }
      ],
      "source": [
        "a2[[0,1],1:]"
      ]
    },
    {
      "cell_type": "code",
      "execution_count": null,
      "id": "bdc919d2",
      "metadata": {
        "id": "bdc919d2"
      },
      "outputs": [],
      "source": [
        "a5 = np.random.randint(2,90 , (6,5))"
      ]
    },
    {
      "cell_type": "code",
      "execution_count": null,
      "id": "5801d128",
      "metadata": {
        "id": "5801d128",
        "outputId": "3aeeb0b5-087a-4dd5-e842-19ab2cfbd59b",
        "colab": {
          "base_uri": "https://localhost:8080/"
        }
      },
      "outputs": [
        {
          "output_type": "execute_result",
          "data": {
            "text/plain": [
              "array([[ 5, 27, 81, 49, 70],\n",
              "       [77, 61, 73, 18, 78],\n",
              "       [65, 69, 56, 81, 78],\n",
              "       [77, 55, 13, 46, 67],\n",
              "       [19, 50, 11,  8, 32],\n",
              "       [58, 78, 32, 20, 13]])"
            ]
          },
          "metadata": {},
          "execution_count": 135
        }
      ],
      "source": [
        "a5"
      ]
    },
    {
      "cell_type": "code",
      "execution_count": null,
      "id": "5b76d344",
      "metadata": {
        "id": "5b76d344",
        "outputId": "ed954017-778c-45dc-e94f-ca19c11ad484",
        "colab": {
          "base_uri": "https://localhost:8080/"
        }
      },
      "outputs": [
        {
          "output_type": "execute_result",
          "data": {
            "text/plain": [
              "array([81, 49, 70, 77, 61, 73, 78, 65, 69, 56, 81, 78, 77, 55, 46, 67, 50,\n",
              "       58, 78])"
            ]
          },
          "metadata": {},
          "execution_count": 136
        }
      ],
      "source": [
        "a5[a5>40]"
      ]
    },
    {
      "cell_type": "code",
      "execution_count": null,
      "id": "b4d8e5a5",
      "metadata": {
        "id": "b4d8e5a5",
        "outputId": "d83d4c63-04ff-4ceb-eb0f-ee4ea43207c1",
        "colab": {
          "base_uri": "https://localhost:8080/"
        }
      },
      "outputs": [
        {
          "output_type": "execute_result",
          "data": {
            "text/plain": [
              "array([[ 5, 27, 81, 49, 70],\n",
              "       [77, 61, 73, 18, 78],\n",
              "       [65, 69, 56, 81, 78],\n",
              "       [77, 55, 13, 46, 67],\n",
              "       [19, 50, 11,  8, 32],\n",
              "       [58, 78, 32, 20, 13]])"
            ]
          },
          "metadata": {},
          "execution_count": 137
        }
      ],
      "source": [
        "a5"
      ]
    },
    {
      "cell_type": "code",
      "execution_count": null,
      "id": "965717eb",
      "metadata": {
        "id": "965717eb"
      },
      "outputs": [],
      "source": [
        "a5[0,1] = 100"
      ]
    },
    {
      "cell_type": "code",
      "execution_count": null,
      "id": "b7182293",
      "metadata": {
        "id": "b7182293",
        "outputId": "f0a7d64e-75b1-4085-81fe-3920fbbb3ce5",
        "colab": {
          "base_uri": "https://localhost:8080/"
        }
      },
      "outputs": [
        {
          "output_type": "execute_result",
          "data": {
            "text/plain": [
              "array([[  5, 100,  81,  49,  70],\n",
              "       [ 77,  61,  73,  18,  78],\n",
              "       [ 65,  69,  56,  81,  78],\n",
              "       [ 77,  55,  13,  46,  67],\n",
              "       [ 19,  50,  11,   8,  32],\n",
              "       [ 58,  78,  32,  20,  13]])"
            ]
          },
          "metadata": {},
          "execution_count": 139
        }
      ],
      "source": [
        "a5"
      ]
    },
    {
      "cell_type": "code",
      "execution_count": null,
      "id": "b9ed5c3f",
      "metadata": {
        "id": "b9ed5c3f"
      },
      "outputs": [],
      "source": [
        "a6 = np.random.randint(0,3 , (3,3))"
      ]
    },
    {
      "cell_type": "code",
      "execution_count": null,
      "id": "d19afddd",
      "metadata": {
        "id": "d19afddd"
      },
      "outputs": [],
      "source": [
        "a7 = np.random.randint(0,3 , (3,3))"
      ]
    },
    {
      "cell_type": "code",
      "execution_count": null,
      "id": "6ea7e661",
      "metadata": {
        "id": "6ea7e661",
        "outputId": "666a42f9-7832-4782-fb57-c487eaf97a70",
        "colab": {
          "base_uri": "https://localhost:8080/"
        }
      },
      "outputs": [
        {
          "output_type": "execute_result",
          "data": {
            "text/plain": [
              "array([[1, 1, 0],\n",
              "       [2, 1, 2],\n",
              "       [0, 1, 2]])"
            ]
          },
          "metadata": {},
          "execution_count": 142
        }
      ],
      "source": [
        "a6"
      ]
    },
    {
      "cell_type": "code",
      "execution_count": null,
      "id": "a6c7edfd",
      "metadata": {
        "id": "a6c7edfd",
        "outputId": "e539c08b-2337-486e-c165-12adaf3323c5",
        "colab": {
          "base_uri": "https://localhost:8080/"
        }
      },
      "outputs": [
        {
          "output_type": "execute_result",
          "data": {
            "text/plain": [
              "array([[1, 0, 0],\n",
              "       [1, 0, 1],\n",
              "       [1, 2, 0]])"
            ]
          },
          "metadata": {},
          "execution_count": 143
        }
      ],
      "source": [
        "a7\n",
        "\n"
      ]
    },
    {
      "cell_type": "code",
      "execution_count": null,
      "id": "2a8b95ac",
      "metadata": {
        "id": "2a8b95ac",
        "outputId": "1a88f969-fcc9-4271-c96b-c929dcac99d0",
        "colab": {
          "base_uri": "https://localhost:8080/"
        }
      },
      "outputs": [
        {
          "output_type": "execute_result",
          "data": {
            "text/plain": [
              "array([[1, 0, 0],\n",
              "       [2, 0, 2],\n",
              "       [0, 2, 0]])"
            ]
          },
          "metadata": {},
          "execution_count": 144
        }
      ],
      "source": [
        "a6*a7"
      ]
    },
    {
      "cell_type": "code",
      "execution_count": null,
      "id": "4327489e",
      "metadata": {
        "id": "4327489e",
        "outputId": "f2df91a0-a563-41cc-efb8-5719a1af2c7c",
        "colab": {
          "base_uri": "https://localhost:8080/"
        }
      },
      "outputs": [
        {
          "output_type": "execute_result",
          "data": {
            "text/plain": [
              "array([[2, 0, 1],\n",
              "       [5, 4, 1],\n",
              "       [3, 4, 1]])"
            ]
          },
          "metadata": {},
          "execution_count": 145
        }
      ],
      "source": [
        "a6@a7"
      ]
    },
    {
      "cell_type": "code",
      "execution_count": null,
      "id": "4bb9f8f5",
      "metadata": {
        "id": "4bb9f8f5",
        "outputId": "78e58300-e1cc-4136-a447-55efee0403dd",
        "colab": {
          "base_uri": "https://localhost:8080/"
        }
      },
      "outputs": [
        {
          "output_type": "execute_result",
          "data": {
            "text/plain": [
              "array([[1, 1, 0],\n",
              "       [2, 1, 2],\n",
              "       [0, 1, 2]])"
            ]
          },
          "metadata": {},
          "execution_count": 146
        }
      ],
      "source": [
        "a6"
      ]
    },
    {
      "cell_type": "code",
      "execution_count": null,
      "id": "4cc4c9cc",
      "metadata": {
        "id": "4cc4c9cc",
        "outputId": "7a1c16b1-cac2-40b4-99dc-cc3cbca37bdf",
        "colab": {
          "base_uri": "https://localhost:8080/"
        }
      },
      "outputs": [
        {
          "output_type": "execute_result",
          "data": {
            "text/plain": [
              "array([[101, 101, 100],\n",
              "       [102, 101, 102],\n",
              "       [100, 101, 102]])"
            ]
          },
          "metadata": {},
          "execution_count": 147
        }
      ],
      "source": [
        "a6+100"
      ]
    },
    {
      "cell_type": "code",
      "execution_count": null,
      "id": "d31dcb3d",
      "metadata": {
        "id": "d31dcb3d",
        "outputId": "114cb5f8-8447-4666-879a-0a6b60533524",
        "colab": {
          "base_uri": "https://localhost:8080/"
        }
      },
      "outputs": [
        {
          "output_type": "execute_result",
          "data": {
            "text/plain": [
              "array([[2, 2, 0],\n",
              "       [4, 2, 4],\n",
              "       [0, 2, 4]])"
            ]
          },
          "metadata": {},
          "execution_count": 148
        }
      ],
      "source": [
        "a6*2"
      ]
    },
    {
      "cell_type": "code",
      "execution_count": null,
      "id": "f1cd28c9",
      "metadata": {
        "id": "f1cd28c9",
        "outputId": "dc2297c1-0b74-44ba-eccb-d4d31812c021",
        "colab": {
          "base_uri": "https://localhost:8080/"
        }
      },
      "outputs": [
        {
          "output_type": "stream",
          "name": "stderr",
          "text": [
            "<ipython-input-149-fb79fded0e91>:1: RuntimeWarning:\n",
            "\n",
            "divide by zero encountered in divide\n",
            "\n",
            "<ipython-input-149-fb79fded0e91>:1: RuntimeWarning:\n",
            "\n",
            "invalid value encountered in divide\n",
            "\n"
          ]
        },
        {
          "output_type": "execute_result",
          "data": {
            "text/plain": [
              "array([[inf, inf, nan],\n",
              "       [inf, inf, inf],\n",
              "       [nan, inf, inf]])"
            ]
          },
          "metadata": {},
          "execution_count": 149
        }
      ],
      "source": [
        "a6/0"
      ]
    },
    {
      "cell_type": "code",
      "execution_count": null,
      "id": "d9f57033",
      "metadata": {
        "id": "d9f57033",
        "outputId": "93c004a1-e5d1-425f-a696-802281585103",
        "colab": {
          "base_uri": "https://localhost:8080/"
        }
      },
      "outputs": [
        {
          "output_type": "execute_result",
          "data": {
            "text/plain": [
              "array([[1, 1, 0],\n",
              "       [2, 1, 2],\n",
              "       [0, 1, 2]])"
            ]
          },
          "metadata": {},
          "execution_count": 150
        }
      ],
      "source": [
        "a6"
      ]
    },
    {
      "cell_type": "code",
      "execution_count": null,
      "id": "a518608e",
      "metadata": {
        "id": "a518608e",
        "outputId": "bf1999e9-35f1-4c68-abae-3d33c665dbbf",
        "colab": {
          "base_uri": "https://localhost:8080/"
        }
      },
      "outputs": [
        {
          "output_type": "execute_result",
          "data": {
            "text/plain": [
              "array([[1, 1, 0],\n",
              "       [8, 1, 8],\n",
              "       [0, 1, 8]])"
            ]
          },
          "metadata": {},
          "execution_count": 151
        }
      ],
      "source": [
        "a6**3\n"
      ]
    },
    {
      "cell_type": "code",
      "execution_count": null,
      "id": "4043e60a",
      "metadata": {
        "id": "4043e60a"
      },
      "outputs": [],
      "source": [
        "a8 = np.zeros((4,4))"
      ]
    },
    {
      "cell_type": "code",
      "execution_count": null,
      "id": "be2004fe",
      "metadata": {
        "id": "be2004fe",
        "outputId": "a1c715d4-8b1a-4a9a-ea2f-87041ee1fbab",
        "colab": {
          "base_uri": "https://localhost:8080/"
        }
      },
      "outputs": [
        {
          "output_type": "execute_result",
          "data": {
            "text/plain": [
              "array([[0., 0., 0., 0.],\n",
              "       [0., 0., 0., 0.],\n",
              "       [0., 0., 0., 0.],\n",
              "       [0., 0., 0., 0.]])"
            ]
          },
          "metadata": {},
          "execution_count": 153
        }
      ],
      "source": [
        "a8"
      ]
    },
    {
      "cell_type": "code",
      "execution_count": null,
      "id": "7e6860d7",
      "metadata": {
        "id": "7e6860d7"
      },
      "outputs": [],
      "source": [
        "a9  = np.ones((4,5))"
      ]
    },
    {
      "cell_type": "code",
      "execution_count": null,
      "id": "a82cf73a",
      "metadata": {
        "id": "a82cf73a",
        "outputId": "e3af54e7-82ea-4c6a-a5a7-a144c292a7f3",
        "colab": {
          "base_uri": "https://localhost:8080/"
        }
      },
      "outputs": [
        {
          "output_type": "execute_result",
          "data": {
            "text/plain": [
              "array([[1., 1., 1., 1., 1.],\n",
              "       [1., 1., 1., 1., 1.],\n",
              "       [1., 1., 1., 1., 1.],\n",
              "       [1., 1., 1., 1., 1.]])"
            ]
          },
          "metadata": {},
          "execution_count": 155
        }
      ],
      "source": [
        "a9"
      ]
    },
    {
      "cell_type": "code",
      "execution_count": null,
      "id": "13c10ccf",
      "metadata": {
        "id": "13c10ccf",
        "outputId": "5d725ede-93c8-4105-f8f0-5ab948aecf87",
        "colab": {
          "base_uri": "https://localhost:8080/"
        }
      },
      "outputs": [
        {
          "output_type": "execute_result",
          "data": {
            "text/plain": [
              "array([[11., 11., 11., 11., 11.],\n",
              "       [11., 11., 11., 11., 11.],\n",
              "       [11., 11., 11., 11., 11.],\n",
              "       [11., 11., 11., 11., 11.]])"
            ]
          },
          "metadata": {},
          "execution_count": 156
        }
      ],
      "source": [
        "a9+10"
      ]
    },
    {
      "cell_type": "code",
      "execution_count": null,
      "id": "357dd65e",
      "metadata": {
        "id": "357dd65e",
        "outputId": "4f19545a-b73c-49e8-f445-2d8c816a3f57",
        "colab": {
          "base_uri": "https://localhost:8080/"
        }
      },
      "outputs": [
        {
          "output_type": "execute_result",
          "data": {
            "text/plain": [
              "array([[2., 3., 4., 5., 6.],\n",
              "       [2., 3., 4., 5., 6.],\n",
              "       [2., 3., 4., 5., 6.],\n",
              "       [2., 3., 4., 5., 6.]])"
            ]
          },
          "metadata": {},
          "execution_count": 157
        }
      ],
      "source": [
        "a9 + np.array([1,2,3,4,5])"
      ]
    },
    {
      "cell_type": "code",
      "execution_count": null,
      "id": "c6dddbeb",
      "metadata": {
        "id": "c6dddbeb",
        "outputId": "782fc0da-6825-4ec9-ba1f-dfbc28aa2c9c",
        "colab": {
          "base_uri": "https://localhost:8080/"
        }
      },
      "outputs": [
        {
          "output_type": "execute_result",
          "data": {
            "text/plain": [
              "array([[1., 1., 1., 1., 1.],\n",
              "       [1., 1., 1., 1., 1.],\n",
              "       [1., 1., 1., 1., 1.],\n",
              "       [1., 1., 1., 1., 1.]])"
            ]
          },
          "metadata": {},
          "execution_count": 158
        }
      ],
      "source": [
        "a9"
      ]
    },
    {
      "cell_type": "code",
      "execution_count": null,
      "id": "ce3c0c8a",
      "metadata": {
        "id": "ce3c0c8a",
        "outputId": "abc6bd24-7795-4f4a-ebe9-93a7cdab13f8",
        "colab": {
          "base_uri": "https://localhost:8080/"
        }
      },
      "outputs": [
        {
          "output_type": "execute_result",
          "data": {
            "text/plain": [
              "array([[2., 3., 4., 5., 6.],\n",
              "       [2., 3., 4., 5., 6.],\n",
              "       [2., 3., 4., 5., 6.],\n",
              "       [2., 3., 4., 5., 6.]])"
            ]
          },
          "metadata": {},
          "execution_count": 159
        }
      ],
      "source": [
        "a9 + np.array([1,2,3,4,5])"
      ]
    },
    {
      "cell_type": "code",
      "execution_count": null,
      "id": "b79f02b7",
      "metadata": {
        "id": "b79f02b7",
        "outputId": "3f80e621-dbc2-4931-b58e-2f4a52cdeca4",
        "colab": {
          "base_uri": "https://localhost:8080/"
        }
      },
      "outputs": [
        {
          "output_type": "execute_result",
          "data": {
            "text/plain": [
              "array([[1., 1., 1., 1., 1.],\n",
              "       [1., 1., 1., 1., 1.],\n",
              "       [1., 1., 1., 1., 1.],\n",
              "       [1., 1., 1., 1., 1.]])"
            ]
          },
          "metadata": {},
          "execution_count": 160
        }
      ],
      "source": [
        "a9"
      ]
    },
    {
      "cell_type": "code",
      "execution_count": null,
      "id": "1e09bb89",
      "metadata": {
        "id": "1e09bb89",
        "outputId": "701a3910-6b06-4f50-fe87-4e46ece4d5ff",
        "colab": {
          "base_uri": "https://localhost:8080/"
        }
      },
      "outputs": [
        {
          "output_type": "execute_result",
          "data": {
            "text/plain": [
              "array([[2., 2., 2., 2., 2.],\n",
              "       [3., 3., 3., 3., 3.],\n",
              "       [4., 4., 4., 4., 4.],\n",
              "       [5., 5., 5., 5., 5.]])"
            ]
          },
          "metadata": {},
          "execution_count": 161
        }
      ],
      "source": [
        "np.array([[1,2,3,4]]).T + a9"
      ]
    },
    {
      "cell_type": "code",
      "execution_count": null,
      "id": "32f179b8",
      "metadata": {
        "id": "32f179b8",
        "outputId": "0eed0892-b92c-4986-9703-123351ec8389",
        "colab": {
          "base_uri": "https://localhost:8080/"
        }
      },
      "outputs": [
        {
          "output_type": "execute_result",
          "data": {
            "text/plain": [
              "array([[1],\n",
              "       [2],\n",
              "       [3],\n",
              "       [4]])"
            ]
          },
          "metadata": {},
          "execution_count": 162
        }
      ],
      "source": [
        "np.array([[1,2,3,4]]).T"
      ]
    },
    {
      "cell_type": "code",
      "execution_count": null,
      "id": "8bef0d9e",
      "metadata": {
        "id": "8bef0d9e",
        "outputId": "2cbffd79-2a05-444b-f5c3-701dbf6d1cca",
        "colab": {
          "base_uri": "https://localhost:8080/"
        }
      },
      "outputs": [
        {
          "output_type": "execute_result",
          "data": {
            "text/plain": [
              "array([[1, 2, 3, 4]])"
            ]
          },
          "metadata": {},
          "execution_count": 163
        }
      ],
      "source": [
        "np.array([[1,2,3,4]])"
      ]
    },
    {
      "cell_type": "code",
      "execution_count": null,
      "id": "45a65a29",
      "metadata": {
        "id": "45a65a29",
        "outputId": "e01d9abe-44c3-409c-b012-f51e04572504",
        "colab": {
          "base_uri": "https://localhost:8080/"
        }
      },
      "outputs": [
        {
          "output_type": "execute_result",
          "data": {
            "text/plain": [
              "array([[1, 2, 0],\n",
              "       [1, 1, 1],\n",
              "       [0, 2, 2]])"
            ]
          },
          "metadata": {},
          "execution_count": 164
        }
      ],
      "source": [
        "a6.T"
      ]
    },
    {
      "cell_type": "code",
      "execution_count": null,
      "id": "d762724c",
      "metadata": {
        "id": "d762724c",
        "outputId": "982eb57f-4118-44da-99be-8f8acaf38821",
        "colab": {
          "base_uri": "https://localhost:8080/"
        }
      },
      "outputs": [
        {
          "output_type": "execute_result",
          "data": {
            "text/plain": [
              "array([[1, 1, 0],\n",
              "       [2, 1, 2],\n",
              "       [0, 1, 2]])"
            ]
          },
          "metadata": {},
          "execution_count": 165
        }
      ],
      "source": [
        "a6"
      ]
    },
    {
      "cell_type": "code",
      "execution_count": null,
      "id": "e141ddfb",
      "metadata": {
        "id": "e141ddfb",
        "outputId": "e83f518d-cc3a-460f-a741-5ac308312c16",
        "colab": {
          "base_uri": "https://localhost:8080/"
        }
      },
      "outputs": [
        {
          "output_type": "execute_result",
          "data": {
            "text/plain": [
              "array([[  5, 100,  81,  49,  70],\n",
              "       [ 77,  61,  73,  18,  78],\n",
              "       [ 65,  69,  56,  81,  78],\n",
              "       [ 77,  55,  13,  46,  67],\n",
              "       [ 19,  50,  11,   8,  32],\n",
              "       [ 58,  78,  32,  20,  13]])"
            ]
          },
          "metadata": {},
          "execution_count": 166
        }
      ],
      "source": [
        "a5"
      ]
    },
    {
      "cell_type": "code",
      "execution_count": null,
      "id": "93e82112",
      "metadata": {
        "id": "93e82112",
        "outputId": "5b19fe87-81d6-4554-fa72-d53b7ae725ab",
        "colab": {
          "base_uri": "https://localhost:8080/"
        }
      },
      "outputs": [
        {
          "output_type": "execute_result",
          "data": {
            "text/plain": [
              "array([[ 2.23606798, 10.        ,  9.        ,  7.        ,  8.36660027],\n",
              "       [ 8.77496439,  7.81024968,  8.54400375,  4.24264069,  8.83176087],\n",
              "       [ 8.06225775,  8.30662386,  7.48331477,  9.        ,  8.83176087],\n",
              "       [ 8.77496439,  7.41619849,  3.60555128,  6.78232998,  8.18535277],\n",
              "       [ 4.35889894,  7.07106781,  3.31662479,  2.82842712,  5.65685425],\n",
              "       [ 7.61577311,  8.83176087,  5.65685425,  4.47213595,  3.60555128]])"
            ]
          },
          "metadata": {},
          "execution_count": 167
        }
      ],
      "source": [
        "np.sqrt(a5)"
      ]
    },
    {
      "cell_type": "code",
      "execution_count": null,
      "id": "ec6e3eb5",
      "metadata": {
        "id": "ec6e3eb5",
        "outputId": "c523addb-6e02-4727-8915-f48650326988",
        "colab": {
          "base_uri": "https://localhost:8080/"
        }
      },
      "outputs": [
        {
          "output_type": "execute_result",
          "data": {
            "text/plain": [
              "array([[1.48413159e+02, 2.68811714e+43, 1.50609731e+35, 1.90734657e+21,\n",
              "        2.51543867e+30],\n",
              "       [2.75851345e+33, 3.10429794e+26, 5.05239363e+31, 6.56599691e+07,\n",
              "        7.49841700e+33],\n",
              "       [1.69488924e+28, 9.25378173e+29, 2.09165950e+24, 1.50609731e+35,\n",
              "        7.49841700e+33],\n",
              "       [2.75851345e+33, 7.69478527e+23, 4.42413392e+05, 9.49611942e+19,\n",
              "        1.25236317e+29],\n",
              "       [1.78482301e+08, 5.18470553e+21, 5.98741417e+04, 2.98095799e+03,\n",
              "        7.89629602e+13],\n",
              "       [1.54553894e+25, 7.49841700e+33, 7.89629602e+13, 4.85165195e+08,\n",
              "        4.42413392e+05]])"
            ]
          },
          "metadata": {},
          "execution_count": 168
        }
      ],
      "source": [
        "np.exp(a5)"
      ]
    },
    {
      "cell_type": "code",
      "execution_count": null,
      "id": "335151b1",
      "metadata": {
        "id": "335151b1",
        "outputId": "d007f431-df8f-4433-efb7-1e3b26e1dd80",
        "colab": {
          "base_uri": "https://localhost:8080/"
        }
      },
      "outputs": [
        {
          "output_type": "execute_result",
          "data": {
            "text/plain": [
              "array([[0.69897   , 2.        , 1.90848502, 1.69019608, 1.84509804],\n",
              "       [1.88649073, 1.78532984, 1.86332286, 1.25527251, 1.8920946 ],\n",
              "       [1.81291336, 1.83884909, 1.74818803, 1.90848502, 1.8920946 ],\n",
              "       [1.88649073, 1.74036269, 1.11394335, 1.66275783, 1.8260748 ],\n",
              "       [1.2787536 , 1.69897   , 1.04139269, 0.90308999, 1.50514998],\n",
              "       [1.76342799, 1.8920946 , 1.50514998, 1.30103   , 1.11394335]])"
            ]
          },
          "metadata": {},
          "execution_count": 169
        }
      ],
      "source": [
        "np.log10(a5)"
      ]
    },
    {
      "cell_type": "code",
      "execution_count": null,
      "id": "a18bafb8",
      "metadata": {
        "id": "a18bafb8",
        "outputId": "09c9c7b0-b58b-4afc-8ed8-de35f14186dd",
        "colab": {
          "base_uri": "https://localhost:8080/"
        }
      },
      "outputs": [
        {
          "output_type": "execute_result",
          "data": {
            "text/plain": [
              "[0, 2, 4, 6, 8]"
            ]
          },
          "metadata": {},
          "execution_count": 170
        }
      ],
      "source": [
        "list(range(0,10 , 2))"
      ]
    },
    {
      "cell_type": "code",
      "execution_count": null,
      "id": "b37879b2",
      "metadata": {
        "id": "b37879b2",
        "outputId": "6716647e-eeb1-4ecd-8c9b-ac982ff2eac5",
        "colab": {
          "base_uri": "https://localhost:8080/"
        }
      },
      "outputs": [
        {
          "output_type": "execute_result",
          "data": {
            "text/plain": [
              "array([1.8, 4.3, 6.8, 9.3])"
            ]
          },
          "metadata": {},
          "execution_count": 171
        }
      ],
      "source": [
        "np.arange(1.8,10.7,2.5)"
      ]
    },
    {
      "cell_type": "code",
      "execution_count": null,
      "id": "42007336",
      "metadata": {
        "id": "42007336",
        "outputId": "bca4811a-4203-46e4-8805-2003c37cfd18",
        "colab": {
          "base_uri": "https://localhost:8080/"
        }
      },
      "outputs": [
        {
          "output_type": "execute_result",
          "data": {
            "text/plain": [
              "(array([2.        , 2.02040816, 2.04081633, 2.06122449, 2.08163265,\n",
              "        2.10204082, 2.12244898, 2.14285714, 2.16326531, 2.18367347,\n",
              "        2.20408163, 2.2244898 , 2.24489796, 2.26530612, 2.28571429,\n",
              "        2.30612245, 2.32653061, 2.34693878, 2.36734694, 2.3877551 ,\n",
              "        2.40816327, 2.42857143, 2.44897959, 2.46938776, 2.48979592,\n",
              "        2.51020408, 2.53061224, 2.55102041, 2.57142857, 2.59183673,\n",
              "        2.6122449 , 2.63265306, 2.65306122, 2.67346939, 2.69387755,\n",
              "        2.71428571, 2.73469388, 2.75510204, 2.7755102 , 2.79591837,\n",
              "        2.81632653, 2.83673469, 2.85714286, 2.87755102, 2.89795918,\n",
              "        2.91836735, 2.93877551, 2.95918367, 2.97959184, 3.        ]),\n",
              " np.float64(0.02040816326530612))"
            ]
          },
          "metadata": {},
          "execution_count": 172
        }
      ],
      "source": [
        "np.linspace(2,3,num=50,retstep=True)"
      ]
    },
    {
      "cell_type": "code",
      "execution_count": null,
      "id": "e7bb0d1c",
      "metadata": {
        "id": "e7bb0d1c",
        "outputId": "fb6170b2-79c2-4337-90ad-b4ca316a18ac",
        "colab": {
          "base_uri": "https://localhost:8080/"
        }
      },
      "outputs": [
        {
          "output_type": "execute_result",
          "data": {
            "text/plain": [
              "array([  100.        ,   464.15888336,  2154.43469003, 10000.        ])"
            ]
          },
          "metadata": {},
          "execution_count": 173
        }
      ],
      "source": [
        "np.logspace(2,4,num=4 , base=10)"
      ]
    },
    {
      "cell_type": "code",
      "execution_count": null,
      "id": "afdedaab",
      "metadata": {
        "id": "afdedaab",
        "outputId": "c78c4fcf-f102-4127-9db6-41ee9d8b6377",
        "colab": {
          "base_uri": "https://localhost:8080/"
        }
      },
      "outputs": [
        {
          "output_type": "execute_result",
          "data": {
            "text/plain": [
              "array([[1., 0., 0., 0., 0.],\n",
              "       [0., 1., 0., 0., 0.],\n",
              "       [0., 0., 1., 0., 0.],\n",
              "       [0., 0., 0., 1., 0.],\n",
              "       [0., 0., 0., 0., 1.]])"
            ]
          },
          "metadata": {},
          "execution_count": 174
        }
      ],
      "source": [
        "np.eye(5)"
      ]
    },
    {
      "cell_type": "code",
      "execution_count": null,
      "id": "68e7a468",
      "metadata": {
        "id": "68e7a468"
      },
      "outputs": [],
      "source": [
        "\n",
        "import numpy as np\n",
        "import pandas as pd\n",
        "import seaborn as sns\n",
        "\n"
      ]
    },
    {
      "cell_type": "code",
      "execution_count": null,
      "id": "cd455898",
      "metadata": {
        "id": "cd455898"
      },
      "outputs": [],
      "source": [
        "df = pd.DataFrame(np.random.randn(100,3),columns=['A' , 'B' ,'C'])"
      ]
    },
    {
      "cell_type": "code",
      "execution_count": null,
      "id": "1d101ccf",
      "metadata": {
        "id": "1d101ccf",
        "outputId": "fd93d78d-8666-4dd7-a805-14679375193a",
        "colab": {
          "base_uri": "https://localhost:8080/",
          "height": 424
        }
      },
      "outputs": [
        {
          "output_type": "execute_result",
          "data": {
            "text/plain": [
              "           A         B         C\n",
              "0   0.573389  0.069213 -0.000284\n",
              "1  -0.572124 -0.750224  3.205465\n",
              "2   2.429767  2.589948  0.136250\n",
              "3   0.487384  0.378532  2.885106\n",
              "4   1.376794 -1.421474  1.028927\n",
              "..       ...       ...       ...\n",
              "95 -1.210104 -0.085621 -0.685110\n",
              "96 -0.528576  0.346088 -0.649881\n",
              "97  1.483341 -0.218497  0.010070\n",
              "98  0.824545 -0.453094 -1.066924\n",
              "99  0.240326 -0.170595  0.728192\n",
              "\n",
              "[100 rows x 3 columns]"
            ],
            "text/html": [
              "\n",
              "  <div id=\"df-b970d6ad-0c9e-4c93-965a-ba0ff446beab\" class=\"colab-df-container\">\n",
              "    <div>\n",
              "<style scoped>\n",
              "    .dataframe tbody tr th:only-of-type {\n",
              "        vertical-align: middle;\n",
              "    }\n",
              "\n",
              "    .dataframe tbody tr th {\n",
              "        vertical-align: top;\n",
              "    }\n",
              "\n",
              "    .dataframe thead th {\n",
              "        text-align: right;\n",
              "    }\n",
              "</style>\n",
              "<table border=\"1\" class=\"dataframe\">\n",
              "  <thead>\n",
              "    <tr style=\"text-align: right;\">\n",
              "      <th></th>\n",
              "      <th>A</th>\n",
              "      <th>B</th>\n",
              "      <th>C</th>\n",
              "    </tr>\n",
              "  </thead>\n",
              "  <tbody>\n",
              "    <tr>\n",
              "      <th>0</th>\n",
              "      <td>0.573389</td>\n",
              "      <td>0.069213</td>\n",
              "      <td>-0.000284</td>\n",
              "    </tr>\n",
              "    <tr>\n",
              "      <th>1</th>\n",
              "      <td>-0.572124</td>\n",
              "      <td>-0.750224</td>\n",
              "      <td>3.205465</td>\n",
              "    </tr>\n",
              "    <tr>\n",
              "      <th>2</th>\n",
              "      <td>2.429767</td>\n",
              "      <td>2.589948</td>\n",
              "      <td>0.136250</td>\n",
              "    </tr>\n",
              "    <tr>\n",
              "      <th>3</th>\n",
              "      <td>0.487384</td>\n",
              "      <td>0.378532</td>\n",
              "      <td>2.885106</td>\n",
              "    </tr>\n",
              "    <tr>\n",
              "      <th>4</th>\n",
              "      <td>1.376794</td>\n",
              "      <td>-1.421474</td>\n",
              "      <td>1.028927</td>\n",
              "    </tr>\n",
              "    <tr>\n",
              "      <th>...</th>\n",
              "      <td>...</td>\n",
              "      <td>...</td>\n",
              "      <td>...</td>\n",
              "    </tr>\n",
              "    <tr>\n",
              "      <th>95</th>\n",
              "      <td>-1.210104</td>\n",
              "      <td>-0.085621</td>\n",
              "      <td>-0.685110</td>\n",
              "    </tr>\n",
              "    <tr>\n",
              "      <th>96</th>\n",
              "      <td>-0.528576</td>\n",
              "      <td>0.346088</td>\n",
              "      <td>-0.649881</td>\n",
              "    </tr>\n",
              "    <tr>\n",
              "      <th>97</th>\n",
              "      <td>1.483341</td>\n",
              "      <td>-0.218497</td>\n",
              "      <td>0.010070</td>\n",
              "    </tr>\n",
              "    <tr>\n",
              "      <th>98</th>\n",
              "      <td>0.824545</td>\n",
              "      <td>-0.453094</td>\n",
              "      <td>-1.066924</td>\n",
              "    </tr>\n",
              "    <tr>\n",
              "      <th>99</th>\n",
              "      <td>0.240326</td>\n",
              "      <td>-0.170595</td>\n",
              "      <td>0.728192</td>\n",
              "    </tr>\n",
              "  </tbody>\n",
              "</table>\n",
              "<p>100 rows × 3 columns</p>\n",
              "</div>\n",
              "    <div class=\"colab-df-buttons\">\n",
              "\n",
              "  <div class=\"colab-df-container\">\n",
              "    <button class=\"colab-df-convert\" onclick=\"convertToInteractive('df-b970d6ad-0c9e-4c93-965a-ba0ff446beab')\"\n",
              "            title=\"Convert this dataframe to an interactive table.\"\n",
              "            style=\"display:none;\">\n",
              "\n",
              "  <svg xmlns=\"http://www.w3.org/2000/svg\" height=\"24px\" viewBox=\"0 -960 960 960\">\n",
              "    <path d=\"M120-120v-720h720v720H120Zm60-500h600v-160H180v160Zm220 220h160v-160H400v160Zm0 220h160v-160H400v160ZM180-400h160v-160H180v160Zm440 0h160v-160H620v160ZM180-180h160v-160H180v160Zm440 0h160v-160H620v160Z\"/>\n",
              "  </svg>\n",
              "    </button>\n",
              "\n",
              "  <style>\n",
              "    .colab-df-container {\n",
              "      display:flex;\n",
              "      gap: 12px;\n",
              "    }\n",
              "\n",
              "    .colab-df-convert {\n",
              "      background-color: #E8F0FE;\n",
              "      border: none;\n",
              "      border-radius: 50%;\n",
              "      cursor: pointer;\n",
              "      display: none;\n",
              "      fill: #1967D2;\n",
              "      height: 32px;\n",
              "      padding: 0 0 0 0;\n",
              "      width: 32px;\n",
              "    }\n",
              "\n",
              "    .colab-df-convert:hover {\n",
              "      background-color: #E2EBFA;\n",
              "      box-shadow: 0px 1px 2px rgba(60, 64, 67, 0.3), 0px 1px 3px 1px rgba(60, 64, 67, 0.15);\n",
              "      fill: #174EA6;\n",
              "    }\n",
              "\n",
              "    .colab-df-buttons div {\n",
              "      margin-bottom: 4px;\n",
              "    }\n",
              "\n",
              "    [theme=dark] .colab-df-convert {\n",
              "      background-color: #3B4455;\n",
              "      fill: #D2E3FC;\n",
              "    }\n",
              "\n",
              "    [theme=dark] .colab-df-convert:hover {\n",
              "      background-color: #434B5C;\n",
              "      box-shadow: 0px 1px 3px 1px rgba(0, 0, 0, 0.15);\n",
              "      filter: drop-shadow(0px 1px 2px rgba(0, 0, 0, 0.3));\n",
              "      fill: #FFFFFF;\n",
              "    }\n",
              "  </style>\n",
              "\n",
              "    <script>\n",
              "      const buttonEl =\n",
              "        document.querySelector('#df-b970d6ad-0c9e-4c93-965a-ba0ff446beab button.colab-df-convert');\n",
              "      buttonEl.style.display =\n",
              "        google.colab.kernel.accessAllowed ? 'block' : 'none';\n",
              "\n",
              "      async function convertToInteractive(key) {\n",
              "        const element = document.querySelector('#df-b970d6ad-0c9e-4c93-965a-ba0ff446beab');\n",
              "        const dataTable =\n",
              "          await google.colab.kernel.invokeFunction('convertToInteractive',\n",
              "                                                    [key], {});\n",
              "        if (!dataTable) return;\n",
              "\n",
              "        const docLinkHtml = 'Like what you see? Visit the ' +\n",
              "          '<a target=\"_blank\" href=https://colab.research.google.com/notebooks/data_table.ipynb>data table notebook</a>'\n",
              "          + ' to learn more about interactive tables.';\n",
              "        element.innerHTML = '';\n",
              "        dataTable['output_type'] = 'display_data';\n",
              "        await google.colab.output.renderOutput(dataTable, element);\n",
              "        const docLink = document.createElement('div');\n",
              "        docLink.innerHTML = docLinkHtml;\n",
              "        element.appendChild(docLink);\n",
              "      }\n",
              "    </script>\n",
              "  </div>\n",
              "\n",
              "\n",
              "<div id=\"df-d7643e9c-614b-4254-9fa8-76e4dd33f550\">\n",
              "  <button class=\"colab-df-quickchart\" onclick=\"quickchart('df-d7643e9c-614b-4254-9fa8-76e4dd33f550')\"\n",
              "            title=\"Suggest charts\"\n",
              "            style=\"display:none;\">\n",
              "\n",
              "<svg xmlns=\"http://www.w3.org/2000/svg\" height=\"24px\"viewBox=\"0 0 24 24\"\n",
              "     width=\"24px\">\n",
              "    <g>\n",
              "        <path d=\"M19 3H5c-1.1 0-2 .9-2 2v14c0 1.1.9 2 2 2h14c1.1 0 2-.9 2-2V5c0-1.1-.9-2-2-2zM9 17H7v-7h2v7zm4 0h-2V7h2v10zm4 0h-2v-4h2v4z\"/>\n",
              "    </g>\n",
              "</svg>\n",
              "  </button>\n",
              "\n",
              "<style>\n",
              "  .colab-df-quickchart {\n",
              "      --bg-color: #E8F0FE;\n",
              "      --fill-color: #1967D2;\n",
              "      --hover-bg-color: #E2EBFA;\n",
              "      --hover-fill-color: #174EA6;\n",
              "      --disabled-fill-color: #AAA;\n",
              "      --disabled-bg-color: #DDD;\n",
              "  }\n",
              "\n",
              "  [theme=dark] .colab-df-quickchart {\n",
              "      --bg-color: #3B4455;\n",
              "      --fill-color: #D2E3FC;\n",
              "      --hover-bg-color: #434B5C;\n",
              "      --hover-fill-color: #FFFFFF;\n",
              "      --disabled-bg-color: #3B4455;\n",
              "      --disabled-fill-color: #666;\n",
              "  }\n",
              "\n",
              "  .colab-df-quickchart {\n",
              "    background-color: var(--bg-color);\n",
              "    border: none;\n",
              "    border-radius: 50%;\n",
              "    cursor: pointer;\n",
              "    display: none;\n",
              "    fill: var(--fill-color);\n",
              "    height: 32px;\n",
              "    padding: 0;\n",
              "    width: 32px;\n",
              "  }\n",
              "\n",
              "  .colab-df-quickchart:hover {\n",
              "    background-color: var(--hover-bg-color);\n",
              "    box-shadow: 0 1px 2px rgba(60, 64, 67, 0.3), 0 1px 3px 1px rgba(60, 64, 67, 0.15);\n",
              "    fill: var(--button-hover-fill-color);\n",
              "  }\n",
              "\n",
              "  .colab-df-quickchart-complete:disabled,\n",
              "  .colab-df-quickchart-complete:disabled:hover {\n",
              "    background-color: var(--disabled-bg-color);\n",
              "    fill: var(--disabled-fill-color);\n",
              "    box-shadow: none;\n",
              "  }\n",
              "\n",
              "  .colab-df-spinner {\n",
              "    border: 2px solid var(--fill-color);\n",
              "    border-color: transparent;\n",
              "    border-bottom-color: var(--fill-color);\n",
              "    animation:\n",
              "      spin 1s steps(1) infinite;\n",
              "  }\n",
              "\n",
              "  @keyframes spin {\n",
              "    0% {\n",
              "      border-color: transparent;\n",
              "      border-bottom-color: var(--fill-color);\n",
              "      border-left-color: var(--fill-color);\n",
              "    }\n",
              "    20% {\n",
              "      border-color: transparent;\n",
              "      border-left-color: var(--fill-color);\n",
              "      border-top-color: var(--fill-color);\n",
              "    }\n",
              "    30% {\n",
              "      border-color: transparent;\n",
              "      border-left-color: var(--fill-color);\n",
              "      border-top-color: var(--fill-color);\n",
              "      border-right-color: var(--fill-color);\n",
              "    }\n",
              "    40% {\n",
              "      border-color: transparent;\n",
              "      border-right-color: var(--fill-color);\n",
              "      border-top-color: var(--fill-color);\n",
              "    }\n",
              "    60% {\n",
              "      border-color: transparent;\n",
              "      border-right-color: var(--fill-color);\n",
              "    }\n",
              "    80% {\n",
              "      border-color: transparent;\n",
              "      border-right-color: var(--fill-color);\n",
              "      border-bottom-color: var(--fill-color);\n",
              "    }\n",
              "    90% {\n",
              "      border-color: transparent;\n",
              "      border-bottom-color: var(--fill-color);\n",
              "    }\n",
              "  }\n",
              "</style>\n",
              "\n",
              "  <script>\n",
              "    async function quickchart(key) {\n",
              "      const quickchartButtonEl =\n",
              "        document.querySelector('#' + key + ' button');\n",
              "      quickchartButtonEl.disabled = true;  // To prevent multiple clicks.\n",
              "      quickchartButtonEl.classList.add('colab-df-spinner');\n",
              "      try {\n",
              "        const charts = await google.colab.kernel.invokeFunction(\n",
              "            'suggestCharts', [key], {});\n",
              "      } catch (error) {\n",
              "        console.error('Error during call to suggestCharts:', error);\n",
              "      }\n",
              "      quickchartButtonEl.classList.remove('colab-df-spinner');\n",
              "      quickchartButtonEl.classList.add('colab-df-quickchart-complete');\n",
              "    }\n",
              "    (() => {\n",
              "      let quickchartButtonEl =\n",
              "        document.querySelector('#df-d7643e9c-614b-4254-9fa8-76e4dd33f550 button');\n",
              "      quickchartButtonEl.style.display =\n",
              "        google.colab.kernel.accessAllowed ? 'block' : 'none';\n",
              "    })();\n",
              "  </script>\n",
              "</div>\n",
              "\n",
              "  <div id=\"id_78def9c4-bfd4-4354-956b-23adef3787de\">\n",
              "    <style>\n",
              "      .colab-df-generate {\n",
              "        background-color: #E8F0FE;\n",
              "        border: none;\n",
              "        border-radius: 50%;\n",
              "        cursor: pointer;\n",
              "        display: none;\n",
              "        fill: #1967D2;\n",
              "        height: 32px;\n",
              "        padding: 0 0 0 0;\n",
              "        width: 32px;\n",
              "      }\n",
              "\n",
              "      .colab-df-generate:hover {\n",
              "        background-color: #E2EBFA;\n",
              "        box-shadow: 0px 1px 2px rgba(60, 64, 67, 0.3), 0px 1px 3px 1px rgba(60, 64, 67, 0.15);\n",
              "        fill: #174EA6;\n",
              "      }\n",
              "\n",
              "      [theme=dark] .colab-df-generate {\n",
              "        background-color: #3B4455;\n",
              "        fill: #D2E3FC;\n",
              "      }\n",
              "\n",
              "      [theme=dark] .colab-df-generate:hover {\n",
              "        background-color: #434B5C;\n",
              "        box-shadow: 0px 1px 3px 1px rgba(0, 0, 0, 0.15);\n",
              "        filter: drop-shadow(0px 1px 2px rgba(0, 0, 0, 0.3));\n",
              "        fill: #FFFFFF;\n",
              "      }\n",
              "    </style>\n",
              "    <button class=\"colab-df-generate\" onclick=\"generateWithVariable('df')\"\n",
              "            title=\"Generate code using this dataframe.\"\n",
              "            style=\"display:none;\">\n",
              "\n",
              "  <svg xmlns=\"http://www.w3.org/2000/svg\" height=\"24px\"viewBox=\"0 0 24 24\"\n",
              "       width=\"24px\">\n",
              "    <path d=\"M7,19H8.4L18.45,9,17,7.55,7,17.6ZM5,21V16.75L18.45,3.32a2,2,0,0,1,2.83,0l1.4,1.43a1.91,1.91,0,0,1,.58,1.4,1.91,1.91,0,0,1-.58,1.4L9.25,21ZM18.45,9,17,7.55Zm-12,3A5.31,5.31,0,0,0,4.9,8.1,5.31,5.31,0,0,0,1,6.5,5.31,5.31,0,0,0,4.9,4.9,5.31,5.31,0,0,0,6.5,1,5.31,5.31,0,0,0,8.1,4.9,5.31,5.31,0,0,0,12,6.5,5.46,5.46,0,0,0,6.5,12Z\"/>\n",
              "  </svg>\n",
              "    </button>\n",
              "    <script>\n",
              "      (() => {\n",
              "      const buttonEl =\n",
              "        document.querySelector('#id_78def9c4-bfd4-4354-956b-23adef3787de button.colab-df-generate');\n",
              "      buttonEl.style.display =\n",
              "        google.colab.kernel.accessAllowed ? 'block' : 'none';\n",
              "\n",
              "      buttonEl.onclick = () => {\n",
              "        google.colab.notebook.generateWithVariable('df');\n",
              "      }\n",
              "      })();\n",
              "    </script>\n",
              "  </div>\n",
              "\n",
              "    </div>\n",
              "  </div>\n"
            ],
            "application/vnd.google.colaboratory.intrinsic+json": {
              "type": "dataframe",
              "variable_name": "df",
              "summary": "{\n  \"name\": \"df\",\n  \"rows\": 100,\n  \"fields\": [\n    {\n      \"column\": \"A\",\n      \"properties\": {\n        \"dtype\": \"number\",\n        \"std\": 1.069953499986906,\n        \"min\": -2.648120582844204,\n        \"max\": 3.002019017923616,\n        \"num_unique_values\": 100,\n        \"samples\": [\n          0.8942447340266599,\n          -1.0340040509374382,\n          -0.657107158926215\n        ],\n        \"semantic_type\": \"\",\n        \"description\": \"\"\n      }\n    },\n    {\n      \"column\": \"B\",\n      \"properties\": {\n        \"dtype\": \"number\",\n        \"std\": 1.0516608951672906,\n        \"min\": -3.4496810890536493,\n        \"max\": 2.589947625729545,\n        \"num_unique_values\": 100,\n        \"samples\": [\n          -0.037894559138089014,\n          -0.32644521035873664,\n          -0.1387039988790381\n        ],\n        \"semantic_type\": \"\",\n        \"description\": \"\"\n      }\n    },\n    {\n      \"column\": \"C\",\n      \"properties\": {\n        \"dtype\": \"number\",\n        \"std\": 1.039746872239543,\n        \"min\": -3.061565504360946,\n        \"max\": 3.205465409489614,\n        \"num_unique_values\": 100,\n        \"samples\": [\n          -0.8486859827591736,\n          -1.2798584414069585,\n          -0.4945736572841465\n        ],\n        \"semantic_type\": \"\",\n        \"description\": \"\"\n      }\n    }\n  ]\n}"
            }
          },
          "metadata": {},
          "execution_count": 184
        }
      ],
      "source": [
        "df"
      ]
    },
    {
      "cell_type": "code",
      "source": [
        "# prompt: Using dataframe df: Create histplot, boxplot, scatterplot, and others graphs for every columns using  seaborn\n",
        "\n",
        "import seaborn as sns\n",
        "import matplotlib.pyplot as plt\n",
        "\n",
        "# Loop through each column in the dataframe\n",
        "for column in df.columns:\n",
        "    print(f\"Graphs for column: {column}\")\n",
        "\n",
        "    # Histogram\n",
        "    plt.figure()\n",
        "    sns.histplot(df[column], kde=True)\n",
        "    plt.title(f\"Histogram of {column}\")\n",
        "    plt.show()\n",
        "\n",
        "    # Boxplot\n",
        "    plt.figure()\n",
        "    sns.boxplot(y=df[column])\n",
        "    plt.title(f\"Boxplot of {column}\")\n",
        "    plt.show()\n",
        "\n",
        "\n",
        "    # Scatterplot (if there are other columns to compare with)\n",
        "    if len(df.columns) > 1:\n",
        "        for other_column in df.columns:\n",
        "            if column != other_column:\n",
        "                plt.figure()\n",
        "                sns.scatterplot(x=df[column], y=df[other_column])\n",
        "                plt.title(f\"Scatterplot of {column} vs {other_column}\")\n",
        "                plt.show()\n",
        "\n",
        "    # Violin Plot\n",
        "    plt.figure()\n",
        "    sns.violinplot(y=df[column])\n",
        "    plt.title(f\"Violin Plot of {column}\")\n",
        "    plt.show()\n",
        "\n",
        "    # Swarm Plot\n",
        "    plt.figure()\n",
        "    sns.swarmplot(y=df[column])\n",
        "    plt.title(f\"Swarm Plot of {column}\")\n",
        "    plt.show()\n"
      ],
      "metadata": {
        "id": "mAHdb4VTOl3a",
        "outputId": "90dfcb07-dd01-4bc0-94bc-4f393086b1e1",
        "colab": {
          "base_uri": "https://localhost:8080/",
          "height": 1000
        }
      },
      "id": "mAHdb4VTOl3a",
      "execution_count": null,
      "outputs": [
        {
          "output_type": "stream",
          "name": "stdout",
          "text": [
            "Graphs for column: A\n"
          ]
        },
        {
          "output_type": "display_data",
          "data": {
            "text/plain": [
              "<Figure size 640x480 with 1 Axes>"
            ],
            "image/png": "[encoded data removed]"
          },
          "metadata": {}
        },
        {
          "output_type": "display_data",
          "data": {
            "text/plain": [
              "<Figure size 640x480 with 1 Axes>"
            ],
            "image/png": "[encoded data removed]"
          },
          "metadata": {}
        },
        {
          "output_type": "display_data",
          "data": {
            "text/plain": [
              "<Figure size 640x480 with 1 Axes>"
            ],
            "image/png": "[encoded data removed]"
          },
          "metadata": {}
        },
        {
          "output_type": "display_data",
          "data": {
            "text/plain": [
              "<Figure size 640x480 with 1 Axes>"
            ],
            "image/png": "[encoded data removed]"
          },
          "metadata": {}
        },
        {
          "output_type": "display_data",
          "data": {
            "text/plain": [
              "<Figure size 640x480 with 1 Axes>"
            ],
            "image/png": "[encoded data removed]"
          },
          "metadata": {}
        },
        {
          "output_type": "display_data",
          "data": {
            "text/plain": [
              "<Figure size 640x480 with 1 Axes>"
            ],
            "image/png": "[encoded data removed]"
          },
          "metadata": {}
        },
        {
          "output_type": "stream",
          "name": "stdout",
          "text": [
            "Graphs for column: B\n"
          ]
        },
        {
          "output_type": "display_data",
          "data": {
            "text/plain": [
              "<Figure size 640x480 with 1 Axes>"
            ],
            "image/png": "[encoded data removed]"
          },
          "metadata": {}
        },
        {
          "output_type": "display_data",
          "data": {
            "text/plain": [
              "<Figure size 640x480 with 1 Axes>"
            ],
            "image/png": "[encoded data removed]"
          },
          "metadata": {}
        },
        {
          "output_type": "display_data",
          "data": {
            "text/plain": [
              "<Figure size 640x480 with 1 Axes>"
            ],
            "image/png": "[encoded data removed]"
          },
          "metadata": {}
        },
        {
          "output_type": "display_data",
          "data": {
            "text/plain": [
              "<Figure size 640x480 with 1 Axes>"
            ],
            "image/png": "[encoded data removed]"
          },
          "metadata": {}
        },
        {
          "output_type": "display_data",
          "data": {
            "text/plain": [
              "<Figure size 640x480 with 1 Axes>"
            ],
            "image/png": "[encoded data removed]"
          },
          "metadata": {}
        },
        {
          "output_type": "display_data",
          "data": {
            "text/plain": [
              "<Figure size 640x480 with 1 Axes>"
            ],
            "image/png": "[encoded data removed]"
          },
          "metadata": {}
        },
        {
          "output_type": "stream",
          "name": "stdout",
          "text": [
            "Graphs for column: C\n"
          ]
        },
        {
          "output_type": "display_data",
          "data": {
            "text/plain": [
              "<Figure size 640x480 with 1 Axes>"
            ],
            "image/png": "[encoded data removed]"
          },
          "metadata": {}
        },
        {
          "output_type": "display_data",
          "data": {
            "text/plain": [
              "<Figure size 640x480 with 1 Axes>"
            ],
            "image/png": "[encoded data removed]"
          },
          "metadata": {}
        },
        {
          "output_type": "display_data",
          "data": {
            "text/plain": [
              "<Figure size 640x480 with 1 Axes>"
            ],
            "image/png": "[encoded data removed]"
          },
          "metadata": {}
        },
        {
          "output_type": "display_data",
          "data": {
            "text/plain": [
              "<Figure size 640x480 with 1 Axes>"
            ],
            "image/png": "[encoded data removed]"
          },
          "metadata": {}
        },
        {
          "output_type": "display_data",
          "data": {
            "text/plain": [
              "<Figure size 640x480 with 1 Axes>"
            ],
            "image/png": "[encoded data removed]"
          },
          "metadata": {}
        },
        {
          "output_type": "display_data",
          "data": {
            "text/plain": [
              "<Figure size 640x480 with 1 Axes>"
            ],
            "image/png": "[encoded data removed]"
          },
          "metadata": {}
        }
      ]
    },
    {
      "cell_type": "code",
      "source": [],
      "metadata": {
        "id": "asgHm4YKO7dS"
      },
      "id": "asgHm4YKO7dS",
      "execution_count": null,
      "outputs": []
    }
  ],
  "metadata": {
    "kernelspec": {
      "display_name": "Python 3 (ipykernel)",
      "language": "python",
      "name": "python3"
    },
    "language_info": {
      "codemirror_mode": {
        "name": "ipython",
        "version": 3
      },
      "file_extension": ".py",
      "mimetype": "text/x-python",
      "name": "python",
      "nbconvert_exporter": "python",
      "pygments_lexer": "ipython3",
      "version": "3.8.5"
    },
    "colab": {
      "provenance": []
    }
  },
  "nbformat": 4,
  "nbformat_minor": 5
}